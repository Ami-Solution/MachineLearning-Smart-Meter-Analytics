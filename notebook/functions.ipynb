{
 "cells": [
  {
   "cell_type": "code",
   "execution_count": null,
   "metadata": {
    "collapsed": true
   },
   "outputs": [],
   "source": [
    "from os.path import join\n",
    "import pandas as pd\n"
   ]
  },
  {
   "cell_type": "code",
   "execution_count": 5,
   "metadata": {
    "collapsed": true
   },
   "outputs": [],
   "source": [
    "\n",
    "def builds_dictionary(house_list_dir):\n",
    "    buildings_list = []\n",
    "    buildings = {}\n",
    "    list_of_buildings = pd.read_csv(join(house_list_dir,'house_list_AC_area.csv'))\n",
    "    for index,row in list_of_buildings.iterrows():\n",
    "        buildings = {\n",
    "                     \"dataid\":int(row['dataid']),\n",
    "                    \"start_period\":row['date_enrolled'],\n",
    "                    \"end_period\":row['date_withdrawn'],\n",
    "                    \"year_constructed\":row['house_construction_year'],\n",
    "                    \"total_area\":row['total_square_footage'],\n",
    "                    \"first_floor_area\":row['first_floor_square_footage'],\n",
    "                    \"second_floor_area\":row['second_floor_square_footage'],\n",
    "                    \"third_floor_area\":row['third_floor_square_footage'],}\n",
    "        buildings_list.append(buildings)\n",
    "    return buildings_list\n"
   ]
  },
  {
   "cell_type": "code",
   "execution_count": 6,
   "metadata": {
    "collapsed": true
   },
   "outputs": [],
   "source": [
    "def find_between( s, first, last ):\n",
    "    try:\n",
    "        start = s.index( first ) + len( first )\n",
    "        end = s.index( last, start )\n",
    "        return s[start:end]\n",
    "    except ValueError:\n",
    "        return \"\""
   ]
  },
  {
   "cell_type": "code",
   "execution_count": 7,
   "metadata": {
    "collapsed": true
   },
   "outputs": [],
   "source": []
  },
  {
   "cell_type": "code",
   "execution_count": null,
   "metadata": {
    "collapsed": true
   },
   "outputs": [],
   "source": []
  }
 ],
 "metadata": {
  "kernelspec": {
   "display_name": "Python [default]",
   "language": "python",
   "name": "python2"
  },
  "language_info": {
   "codemirror_mode": {
    "name": "ipython",
    "version": 2
   },
   "file_extension": ".py",
   "mimetype": "text/x-python",
   "name": "python",
   "nbconvert_exporter": "python",
   "pygments_lexer": "ipython2",
   "version": "2.7.12"
  }
 },
 "nbformat": 4,
 "nbformat_minor": 1
}
