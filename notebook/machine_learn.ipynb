{
 "cells": [
  {
   "cell_type": "code",
   "execution_count": null,
   "metadata": {
    "collapsed": true
   },
   "outputs": [],
   "source": [
    "%run functions.ipynb"
   ]
  },
  {
   "cell_type": "code",
   "execution_count": null,
   "metadata": {
    "collapsed": true
   },
   "outputs": [],
   "source": [
    "class learn:\n",
    "    def linear(df, X_train, y_train, X_test, y_test, output=None,cross_validate=True):\n",
    "        from sklearn import linear_model\n",
    "        linear_reg = linear_model.LinearRegression()\n",
    "        if cross_validate == True:\n",
    "            code here\n",
    "        else:\n",
    "            linear_reg.fit(X_train, y_train)\n",
    "            predict = linear_reg.predict(X_test)\n",
    "            predictions = pd.Series(predict.ravel(),index=y_test.index).rename(y_test.columns[0]+'_predicted')\n",
    "            predictions_frame = pd.DataFrame(predictions).join(y_test)\n",
    "            cv , mbe, r2 = get_metrics(predictions_frame)\n"
   ]
  }
 ],
 "metadata": {
  "anaconda-cloud": {},
  "kernelspec": {
   "display_name": "Python [default]",
   "language": "python",
   "name": "python2"
  },
  "language_info": {
   "codemirror_mode": {
    "name": "ipython",
    "version": 2
   },
   "file_extension": ".py",
   "mimetype": "text/x-python",
   "name": "python",
   "nbconvert_exporter": "python",
   "pygments_lexer": "ipython2",
   "version": "2.7.12"
  }
 },
 "nbformat": 4,
 "nbformat_minor": 1
}
