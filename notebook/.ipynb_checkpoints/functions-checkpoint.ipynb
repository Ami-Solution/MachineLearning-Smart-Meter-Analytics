{
 "cells": [
  {
   "cell_type": "code",
   "execution_count": null,
   "metadata": {
    "collapsed": true
   },
   "outputs": [],
   "source": [
    "from os.path import join\n",
    "import pandas as pd\n",
    "from math import isnan \n",
    "from sklearn import metrics"
   ]
  },
  {
   "cell_type": "code",
   "execution_count": 5,
   "metadata": {
    "collapsed": true
   },
   "outputs": [],
   "source": [
    "\n",
    "def builds_dictionary(house_list_dir):\n",
    "    buildings_list = []\n",
    "    buildings = {}\n",
    "    list_of_buildings = pd.read_csv(join(house_list_dir,'house_list_AC_area.csv'))\n",
    "    for index,row in list_of_buildings.iterrows():\n",
    "        buildings = {\n",
    "                     \"dataid\":int(row['dataid']),\n",
    "                    \"start_period\":row['date_enrolled'],\n",
    "                    \"end_period\":row['date_withdrawn'],\n",
    "                    \"year_constructed\":row['house_construction_year'],\n",
    "                    \"total_area\":row['total_square_footage'],\n",
    "                    \"first_floor_area\":row['first_floor_square_footage'],\n",
    "                    \"second_floor_area\":row['second_floor_square_footage'],\n",
    "                    \"third_floor_area\":row['third_floor_square_footage'],}\n",
    "        buildings_list.append(buildings)\n",
    "    return buildings_list\n"
   ]
  },
  {
   "cell_type": "code",
   "execution_count": 6,
   "metadata": {
    "collapsed": true
   },
   "outputs": [],
   "source": [
    "def find_between( s, first, last ):\n",
    "    try:\n",
    "        start = s.index( first ) + len( first )\n",
    "        end = s.index( last, start )\n",
    "        return s[start:end]\n",
    "    except ValueError:\n",
    "        return \"\""
   ]
  },
  {
   "cell_type": "code",
   "execution_count": 7,
   "metadata": {
    "collapsed": true
   },
   "outputs": [],
   "source": [
    "def sort_by_disagg_acc(dataframe,dataframe_raw):\n",
    "    Error_list = {}\n",
    "    for columns in dataframe.columns:\n",
    "        ac_number = find_between(columns,'air conditioner','_')\n",
    "        if ac_number == '1':\n",
    "            try:\n",
    "                consum_col = columns\n",
    "                consum_col_raw = columns.replace('1_','_')\n",
    "                df_all=dataframe[[consum_col]].join(dataframe_raw[[consum_col_raw]])\n",
    "                df_all = df_all.shift(-5)\n",
    "                df_AC_on = df_all[df_all[consum_col_raw] >30.0][start:end]# optionally place ->[df_all[consum_col_raw] >10.0] in between df_all & [start:end]\n",
    "                Error_list[columns.split('_',1)[1]]=metrics.r2_score(df_AC_on[consum_col_raw],df_AC_on[consum_col])\n",
    "            except:\n",
    "                continue\n",
    "        else:\n",
    "            continue\n",
    "    print Error_list\n",
    "    clean_list = {k: Error_list[k] for k in Error_list if not isnan(Error_list[k])}\n",
    "    return sorted(clean_list.items(), key=lambda x: x[1],reverse=True)\n"
   ]
  },
  {
   "cell_type": "code",
   "execution_count": null,
   "metadata": {
    "collapsed": true
   },
   "outputs": [],
   "source": []
  }
 ],
 "metadata": {
  "kernelspec": {
   "display_name": "Python [default]",
   "language": "python",
   "name": "python2"
  },
  "language_info": {
   "codemirror_mode": {
    "name": "ipython",
    "version": 2
   },
   "file_extension": ".py",
   "mimetype": "text/x-python",
   "name": "python",
   "nbconvert_exporter": "python",
   "pygments_lexer": "ipython2",
   "version": "2.7.12"
  }
 },
 "nbformat": 4,
 "nbformat_minor": 1
}
